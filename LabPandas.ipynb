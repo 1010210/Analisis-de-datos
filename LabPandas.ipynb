{
  "nbformat": 4,
  "nbformat_minor": 0,
  "metadata": {
    "colab": {
      "provenance": [],
      "authorship_tag": "ABX9TyNJeKPg6XAvyeALr/ysWs13",
      "include_colab_link": true
    },
    "kernelspec": {
      "name": "python3",
      "display_name": "Python 3"
    },
    "language_info": {
      "name": "python"
    }
  },
  "cells": [
    {
      "cell_type": "markdown",
      "metadata": {
        "id": "view-in-github",
        "colab_type": "text"
      },
      "source": [
        "<a href=\"https://colab.research.google.com/github/1010210/Analisis-de-datos/blob/main/LabPandas.ipynb\" target=\"_parent\"><img src=\"https://colab.research.google.com/assets/colab-badge.svg\" alt=\"Open In Colab\"/></a>"
      ]
    },
    {
      "cell_type": "code",
      "execution_count": null,
      "metadata": {
        "colab": {
          "base_uri": "https://localhost:8080/"
        },
        "id": "2MfU4QEBVawc",
        "outputId": "7a5f99c0-155d-4ba8-ac93-4d5ce6af2bb1"
      },
      "outputs": [
        {
          "output_type": "stream",
          "name": "stdout",
          "text": [
            "    Nombre  Edad    Ciudad Seccion\n",
            "0      Ana    23  San Jose       A\n",
            "1  Esteban    23  San Jose       B\n",
            "2     Juan    22  San Jose       A\n",
            "3    Karla    22  San Jose       A\n",
            "4  Ernesto    21  San Jose       B\n",
            "___________________________________\n",
            "0    23\n",
            "1    23\n",
            "2    22\n",
            "3    22\n",
            "4    21\n",
            "Name: Edad, dtype: int64\n",
            "___________________________________\n"
          ]
        }
      ],
      "source": [
        "import pandas as pd\n",
        "students = [('Ana',23,'San Jose','A'),\n",
        "            ('Esteban',23,'San Jose','B'),\n",
        "            ('Juan',22,'San Jose','A'),\n",
        "            ('Karla',22,'San Jose','A'),\n",
        "            ('Ernesto',21,'San Jose','B')\n",
        "            ]\n",
        "\n",
        "df = pd.DataFrame(students, columns =['Nombre','Edad','Ciudad','Seccion'])    \n",
        "print(df)\n",
        "\n",
        "\n",
        "print(\"___________________________________\")\n",
        "\n",
        "def buscar_por_columna(df, columna):\n",
        "    return df.loc[:, columna]\n",
        "\n",
        "\n",
        "edad = buscar_por_columna(df, 'Edad')\n",
        "print(edad)\n",
        "\n",
        "\n",
        "print(\"___________________________________\")\n",
        "\n",
        "\n",
        "\n",
        "\n"
      ]
    },
    {
      "cell_type": "code",
      "source": [
        "def getIndexes(dfObj,value):\n",
        "    listOfPos = []\n",
        "    result = dfObj.isin([value])\n",
        "    seriesObj  = result.any()\n",
        "    columnNames = list(seriesObj[seriesObj == True].index)\n",
        "\n",
        "    for col in columnNames:\n",
        "          rows = list(result[col][result[col] == True].index)\n",
        "     \n",
        "          for row in rows:\n",
        "             listOfPos.append((row,col))\n",
        "\n",
        "    return listOfPos\n",
        "\n",
        "listOfPositions = getIndexes(df,'A')\n",
        "print(\"Index positions of 22 in dataframe\")\n",
        "for i in range(len(listOfPositions)):\n",
        "  print(listOfPositions[i])   \n",
        "\n",
        "\n"
      ],
      "metadata": {
        "colab": {
          "base_uri": "https://localhost:8080/"
        },
        "id": "M2U87m46alcj",
        "outputId": "b29332ff-e325-44a4-b6a8-66a633fb32e4"
      },
      "execution_count": null,
      "outputs": [
        {
          "output_type": "stream",
          "name": "stdout",
          "text": [
            "Index positions of 22 in dataframe\n",
            "(0, 'Seccion')\n",
            "(2, 'Seccion')\n",
            "(3, 'Seccion')\n"
          ]
        }
      ]
    },
    {
      "cell_type": "markdown",
      "source": [
        "Reto: Vamos a extraer cuantas transacciones interbancarias e intrabancarias fueron realizadas mediante SINPE en enero del 2022.\n",
        "Integrantes:\n",
        "Andres Cabezas Vizcaino,\n",
        "Treicy Leon Zuniga,\n",
        "Andres Rojas,\n",
        "Alejandro Barrantes."
      ],
      "metadata": {
        "id": "-nSq85PsmOZc"
      }
    }
  ]
}