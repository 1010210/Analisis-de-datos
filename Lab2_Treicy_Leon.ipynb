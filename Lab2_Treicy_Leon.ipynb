{
  "nbformat": 4,
  "nbformat_minor": 0,
  "metadata": {
    "colab": {
      "provenance": [],
      "authorship_tag": "ABX9TyNDK7E2t9ERVPtNVKlVU5G4",
      "include_colab_link": true
    },
    "kernelspec": {
      "name": "python3",
      "display_name": "Python 3"
    },
    "language_info": {
      "name": "python"
    }
  },
  "cells": [
    {
      "cell_type": "markdown",
      "metadata": {
        "id": "view-in-github",
        "colab_type": "text"
      },
      "source": [
        "<a href=\"https://colab.research.google.com/github/1010210/Analisis-de-datos/blob/main/Lab2_Treicy_Leon.ipynb\" target=\"_parent\"><img src=\"https://colab.research.google.com/assets/colab-badge.svg\" alt=\"Open In Colab\"/></a>"
      ]
    },
    {
      "cell_type": "code",
      "execution_count": null,
      "metadata": {
        "colab": {
          "base_uri": "https://localhost:8080/"
        },
        "id": "bByxRPec3G49",
        "outputId": "e1be37fe-907c-4769-a378-648be40d6061"
      },
      "outputs": [
        {
          "output_type": "stream",
          "name": "stdout",
          "text": [
            "Ejemplo 2. Imprime el menor\n",
            "Primer numero: 10\n",
            "Segundo numero: 2\n",
            "______________________________\n",
            "El menor es:  2\n"
          ]
        }
      ],
      "source": [
        "print(\"Ejemplo 2. Imprime el menor\")\n",
        "x = int(input(\"Primer numero: \"))\n",
        "y = int(input(\"Segundo numero: \"))\n",
        "print(\"______________________________\")\n",
        "if x > y:\n",
        "    print(\"El menor es: \",y)\n",
        "else:\n",
        "     print(\"El menor es: \",x)\n"
      ]
    },
    {
      "cell_type": "code",
      "source": [
        "print(\"Ejemplo de los meses\")\n",
        "switcher={1:\"Enero\", 2:\"Febrebro\", 3:\"Marzo\", 4:\"Abril\", 5:\"Mayo\", 6:\"Junio\", 7:\"Julio\", 8:\"Agoto\", 9:\"Septiembre\", 10:\"Octubre\", 11:\"Noviembre\", 12:\"Diciembre\"}\n",
        "argument=int(input(\"Ingrese un numero: \"))\n",
        "nameMes=switcher.get(argument,\"Mes invalido\")\n",
        "print(nameMes)"
      ],
      "metadata": {
        "colab": {
          "base_uri": "https://localhost:8080/"
        },
        "id": "9jT84Fl959LW",
        "outputId": "20fe7795-cbf8-4ff9-a8cd-51fccdad2dd5"
      },
      "execution_count": null,
      "outputs": [
        {
          "output_type": "stream",
          "name": "stdout",
          "text": [
            "Ejemplo de los meses\n",
            "Ingrese un numero: 10\n",
            "Octubre\n"
          ]
        }
      ]
    }
  ]
}