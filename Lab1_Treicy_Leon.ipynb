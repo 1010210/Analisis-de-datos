{
  "nbformat": 4,
  "nbformat_minor": 0,
  "metadata": {
    "colab": {
      "provenance": [],
      "authorship_tag": "ABX9TyM6cF7RtOK36Pl/tCFmULMB",
      "include_colab_link": true
    },
    "kernelspec": {
      "name": "python3",
      "display_name": "Python 3"
    },
    "language_info": {
      "name": "python"
    }
  },
  "cells": [
    {
      "cell_type": "markdown",
      "metadata": {
        "id": "view-in-github",
        "colab_type": "text"
      },
      "source": [
        "<a href=\"https://colab.research.google.com/github/1010210/Analisis-de-datos/blob/main/Lab1_Treicy_Leon.ipynb\" target=\"_parent\"><img src=\"https://colab.research.google.com/assets/colab-badge.svg\" alt=\"Open In Colab\"/></a>"
      ]
    },
    {
      "cell_type": "code",
      "execution_count": null,
      "metadata": {
        "colab": {
          "base_uri": "https://localhost:8080/"
        },
        "id": "bPKC8BitHBqp",
        "outputId": "74907cd6-7352-4c20-e4c2-b29415fc3dd5"
      },
      "outputs": [
        {
          "output_type": "stream",
          "name": "stdout",
          "text": [
            "Ejercicio #1 Calcular distancia\n",
            "Ingrese la velocidad y el tiempo de la unidad movil\n",
            "Ingrese la velocidad:10\n",
            "Ingrese el tiempo: 12\n",
            "La distancia es:120.0\n"
          ]
        }
      ],
      "source": [
        "print(\"Ejercicio #1 Calcular distancia\")\n",
        "print(\"Ingrese la velocidad y el tiempo de la unidad movil\")\n",
        "v=float(input(\"Ingrese la velocidad:\"))\n",
        "t=float(input(\"Ingrese el tiempo: \"))\n",
        "print(\"La distancia es:\"+str(v*t))"
      ]
    },
    {
      "cell_type": "code",
      "source": [
        "print(\"Ejercicio #2 de Notas\")\n",
        "nota1=float(input(\"Ingrese la nota 1:\"))\n",
        "nota2=float(input(\"Ingrese la nota 2:\"))\n",
        "nota3=float(input(\"Ingrese la nota 3:\"))\n",
        "print(\"El promedio es: \"+str((nota1+nota2+nota3)/3))"
      ],
      "metadata": {
        "colab": {
          "base_uri": "https://localhost:8080/"
        },
        "id": "VwJJJAULJEm7",
        "outputId": "b36142af-7888-44a7-a4c5-2a2eac2a6cfa"
      },
      "execution_count": null,
      "outputs": [
        {
          "output_type": "stream",
          "name": "stdout",
          "text": [
            "Ejercicio #2 de Notas\n",
            "Ingrese la nota 1:100\n",
            "Ingrese la nota 2:100\n",
            "Ingrese la nota 3:9\n",
            "El promedio es: 69.66666666666667\n"
          ]
        }
      ]
    },
    {
      "cell_type": "code",
      "source": [
        "print(\"Ejercicio #3 Respuestas\")\n",
        "correctas = int(input(\"Ingrese la cantidad de respuestas correctas: \"))\n",
        "incorrectas = int(input(\"Ingrese la cantidad de respuestas incorrectas: \"))\n",
        "enBlanco = int(input(\"Ingrese la cantidad de respuestas en blanco: \"))\n",
        "\n",
        "puntajeFinal = (correctas * 3) - incorrectas\n",
        "\n",
        "print(\"El puntaje final es:\", puntajeFinal)2"
      ],
      "metadata": {
        "colab": {
          "base_uri": "https://localhost:8080/"
        },
        "id": "funtheaGKN2b",
        "outputId": "fe9a61fc-eca9-495a-f911-7c9e402386f8"
      },
      "execution_count": null,
      "outputs": [
        {
          "output_type": "stream",
          "name": "stdout",
          "text": [
            "Ejercicio #3 Respuestas\n",
            "Ingrese la cantidad de respuestas correctas: 10\n",
            "Ingrese la cantidad de respuestas incorrectas: 3\n",
            "Ingrese la cantidad de respuestas en blanco: 2\n",
            "El puntaje final es: 27\n"
          ]
        }
      ]
    }
  ]
}